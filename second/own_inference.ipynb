{
 "cells": [
  {
   "cell_type": "code",
   "execution_count": 36,
   "metadata": {},
   "outputs": [
    {
     "name": "stdout",
     "output_type": "stream",
     "text": [
      "The autoreload extension is already loaded. To reload it, use:\n",
      "  %reload_ext autoreload\n"
     ]
    }
   ],
   "source": [
    "%load_ext autoreload\n",
    "%autoreload 2\n",
    "%matplotlib inline\n",
    "import numpy as np\n",
    "import matplotlib.pyplot as plt\n",
    "import pickle\n",
    "from pathlib import Path"
   ]
  },
  {
   "cell_type": "code",
   "execution_count": 37,
   "metadata": {},
   "outputs": [],
   "source": [
    "import torch\n",
    "from google.protobuf import text_format\n",
    "from utils import simplevis\n",
    "from pytorch.train import build_network\n",
    "from protos import pipeline_pb2\n",
    "from utils import config_tool"
   ]
  },
  {
   "cell_type": "markdown",
   "metadata": {},
   "source": [
    "## Read Config file"
   ]
  },
  {
   "cell_type": "code",
   "execution_count": 38,
   "metadata": {},
   "outputs": [],
   "source": [
    "config_path = \"/home/niels/workspaces/second-ws/src/second.pytorch/second/models/model_people/pipeline.config\"\n",
    "config = pipeline_pb2.TrainEvalPipelineConfig()\n",
    "with open(config_path, \"r\") as f:\n",
    "    proto_str = f.read()\n",
    "    text_format.Merge(proto_str, config)\n",
    "input_cfg = config.eval_input_reader\n",
    "model_cfg = config.model.second\n",
    "config_tool.change_detection_range_v2(model_cfg, [-10, -10, 10, 10])\n",
    "device = torch.device(\"cuda\" if torch.cuda.is_available() else \"cpu\")\n",
    "# device = torch.device(\"cpu\")"
   ]
  },
  {
   "cell_type": "markdown",
   "metadata": {},
   "source": [
    "## Build Network, Target Assigner and Voxel Generator"
   ]
  },
  {
   "cell_type": "code",
   "execution_count": 39,
   "metadata": {},
   "outputs": [
    {
     "name": "stdout",
     "output_type": "stream",
     "text": [
      "[ 21 400 400]\n"
     ]
    }
   ],
   "source": [
    "ckpt_path = \"/home/niels/workspaces/second-ws/src/second.pytorch/second/models/model_people/voxelnet-9285.tckpt\"\n",
    "net = build_network(model_cfg).to(device).eval()\n",
    "net.load_state_dict(torch.load(ckpt_path))\n",
    "target_assigner = net.target_assigner\n",
    "voxel_generator = net.voxel_generator"
   ]
  },
  {
   "cell_type": "markdown",
   "metadata": {},
   "source": [
    "## Generate Anchors"
   ]
  },
  {
   "cell_type": "code",
   "execution_count": 40,
   "metadata": {},
   "outputs": [
    {
     "data": {
      "text/plain": [
       "network_class_name: \"VoxelNet\"\n",
       "voxel_generator {\n",
       "  voxel_size: 0.05000000074505806\n",
       "  voxel_size: 0.05000000074505806\n",
       "  voxel_size: 0.15000000596046448\n",
       "  point_cloud_range: -10.0\n",
       "  point_cloud_range: -10.0\n",
       "  point_cloud_range: -2.5\n",
       "  point_cloud_range: 10.0\n",
       "  point_cloud_range: 10.0\n",
       "  point_cloud_range: 0.5\n",
       "  max_number_of_points_per_voxel: 5\n",
       "}\n",
       "voxel_feature_extractor {\n",
       "  module_class_name: \"SimpleVoxel\"\n",
       "  num_filters: 16\n",
       "  num_input_features: 4\n",
       "}\n",
       "middle_feature_extractor {\n",
       "  module_class_name: \"SpMiddleFHDPeople\"\n",
       "  num_input_features: 4\n",
       "  downsample_factor: 4\n",
       "}\n",
       "rpn {\n",
       "  module_class_name: \"RPNV2\"\n",
       "  layer_nums: 5\n",
       "  layer_strides: 1\n",
       "  num_filters: 128\n",
       "  upsample_strides: 1.0\n",
       "  num_upsample_filters: 128\n",
       "  num_groups: 32\n",
       "  num_input_features: 128\n",
       "}\n",
       "num_point_features: 4\n",
       "use_sigmoid_score: true\n",
       "loss {\n",
       "  localization_loss {\n",
       "    weighted_smooth_l1 {\n",
       "      sigma: 3.0\n",
       "      code_weight: 1.0\n",
       "      code_weight: 1.0\n",
       "      code_weight: 1.0\n",
       "      code_weight: 1.0\n",
       "      code_weight: 1.0\n",
       "      code_weight: 1.0\n",
       "      code_weight: 1.0\n",
       "    }\n",
       "  }\n",
       "  classification_loss {\n",
       "    weighted_sigmoid_focal {\n",
       "      anchorwise_output: true\n",
       "      gamma: 2.0\n",
       "      alpha: 0.25\n",
       "    }\n",
       "  }\n",
       "  classification_weight: 1.0\n",
       "  localization_weight: 2.0\n",
       "}\n",
       "encode_rad_error_by_sin: true\n",
       "encode_background_as_zeros: true\n",
       "use_direction_classifier: true\n",
       "direction_loss_weight: 0.20000000298023224\n",
       "pos_class_weight: 1.0\n",
       "neg_class_weight: 1.0\n",
       "loss_norm_type: NormByNumPositives\n",
       "box_coder {\n",
       "  ground_box3d_coder {\n",
       "  }\n",
       "}\n",
       "target_assigner {\n",
       "  class_settings {\n",
       "    anchor_generator_range {\n",
       "      sizes: 0.6000000238418579\n",
       "      sizes: 1.7599999904632568\n",
       "      sizes: 1.7300000190734863\n",
       "      anchor_ranges: -10.0\n",
       "      anchor_ranges: -10.0\n",
       "      anchor_ranges: -0.6000000238418579\n",
       "      anchor_ranges: 10.0\n",
       "      anchor_ranges: 10.0\n",
       "      anchor_ranges: -0.6000000238418579\n",
       "      rotations: 0.0\n",
       "      rotations: 1.5700000524520874\n",
       "    }\n",
       "    region_similarity_calculator {\n",
       "      nearest_iou_similarity {\n",
       "      }\n",
       "    }\n",
       "    use_rotate_nms: true\n",
       "    nms_pre_max_size: 1000\n",
       "    nms_post_max_size: 100\n",
       "    nms_score_threshold: 0.4000000059604645\n",
       "    nms_iou_threshold: 0.20000000298023224\n",
       "    matched_threshold: 0.5\n",
       "    unmatched_threshold: 0.3499999940395355\n",
       "    class_name: \"Cyclist\"\n",
       "  }\n",
       "  class_settings {\n",
       "    anchor_generator_range {\n",
       "      sizes: 0.6000000238418579\n",
       "      sizes: 0.800000011920929\n",
       "      sizes: 1.7300000190734863\n",
       "      anchor_ranges: -10.0\n",
       "      anchor_ranges: -10.0\n",
       "      anchor_ranges: -0.6000000238418579\n",
       "      anchor_ranges: 10.0\n",
       "      anchor_ranges: 10.0\n",
       "      anchor_ranges: -0.6000000238418579\n",
       "      rotations: 0.0\n",
       "      rotations: 1.5700000524520874\n",
       "    }\n",
       "    region_similarity_calculator {\n",
       "      nearest_iou_similarity {\n",
       "      }\n",
       "    }\n",
       "    use_rotate_nms: true\n",
       "    nms_pre_max_size: 1000\n",
       "    nms_post_max_size: 100\n",
       "    nms_score_threshold: 0.4000000059604645\n",
       "    nms_iou_threshold: 0.20000000298023224\n",
       "    matched_threshold: 0.5\n",
       "    unmatched_threshold: 0.3499999940395355\n",
       "    class_name: \"Pedestrian\"\n",
       "  }\n",
       "  sample_positive_fraction: -1.0\n",
       "  sample_size: 512\n",
       "  assign_per_class: true\n",
       "}\n",
       "post_center_limit_range: -10.0\n",
       "post_center_limit_range: -10.0\n",
       "post_center_limit_range: -2.5\n",
       "post_center_limit_range: 10.0\n",
       "post_center_limit_range: 10.0\n",
       "post_center_limit_range: -0.5\n",
       "sin_error_factor: 1.0\n",
       "num_direction_bins: 2\n",
       "direction_limit_offset: 1.0"
      ]
     },
     "execution_count": 40,
     "metadata": {},
     "output_type": "execute_result"
    }
   ],
   "source": [
    "model_cfg"
   ]
  },
  {
   "cell_type": "code",
   "execution_count": 41,
   "metadata": {},
   "outputs": [],
   "source": [
    "grid_size = voxel_generator.grid_size\n",
    "feature_map_size = grid_size[:2] // config_tool.get_downsample_factor(model_cfg)\n",
    "feature_map_size = [*feature_map_size, 1][::-1]\n",
    "\n",
    "anchors = target_assigner.generate_anchors(feature_map_size)[\"anchors\"]\n",
    "anchors = torch.tensor(anchors, dtype=torch.float32, device=device)\n",
    "anchors = anchors.view(1, -1, 7)"
   ]
  },
  {
   "cell_type": "code",
   "execution_count": 42,
   "metadata": {},
   "outputs": [
    {
     "data": {
      "text/plain": [
       "array([400, 400,  20])"
      ]
     },
     "execution_count": 42,
     "metadata": {},
     "output_type": "execute_result"
    }
   ],
   "source": [
    "grid_size"
   ]
  },
  {
   "cell_type": "markdown",
   "metadata": {},
   "source": [
    "## Read KITTI infos\n",
    "you can load your custom point cloud."
   ]
  },
  {
   "cell_type": "code",
   "execution_count": 43,
   "metadata": {},
   "outputs": [],
   "source": [
    "info_path = input_cfg.dataset.kitti_info_path\n",
    "root_path = Path(input_cfg.dataset.kitti_root_path)\n",
    "with open(info_path, 'rb') as f:\n",
    "    infos = pickle.load(f)"
   ]
  },
  {
   "cell_type": "markdown",
   "metadata": {},
   "source": [
    "## Load Point Cloud, Generate Voxels"
   ]
  },
  {
   "cell_type": "code",
   "execution_count": 44,
   "metadata": {},
   "outputs": [
    {
     "data": {
      "text/plain": [
       "'/home/niels/data/kitti/kitti_infos_val.pkl'"
      ]
     },
     "execution_count": 44,
     "metadata": {},
     "output_type": "execute_result"
    }
   ],
   "source": [
    "len(infos)\n",
    "info_path"
   ]
  },
  {
   "cell_type": "code",
   "execution_count": 45,
   "metadata": {},
   "outputs": [
    {
     "name": "stdout",
     "output_type": "stream",
     "text": [
      "/home/niels/data/kitti/training/velodyne/001140.bin\n",
      "(11016, 5, 4)\n",
      "torch.Size([1, 40000, 7])\n"
     ]
    }
   ],
   "source": [
    "info = infos[564]\n",
    "v_path = info[\"point_cloud\"]['velodyne_path']\n",
    "v_path = str(root_path / v_path)\n",
    "print(v_path)\n",
    "points = np.fromfile(\n",
    "    v_path, dtype=np.float32, count=-1).reshape([-1, 4])\n",
    "voxels, coords, num_points = voxel_generator.generate(points, max_voxels=90000)\n",
    "\n",
    "\n",
    "print(voxels.shape)\n",
    "print(anchors.shape)\n",
    "\n",
    "# add batch idx to coords\n",
    "coords = np.pad(coords, ((0, 0), (1, 0)), mode='constant', constant_values=0)\n",
    "voxels = torch.tensor(voxels, dtype=torch.float32, device=device)\n",
    "coords = torch.tensor(coords, dtype=torch.int32, device=device)\n",
    "num_points = torch.tensor(num_points, dtype=torch.int32, device=device)"
   ]
  },
  {
   "cell_type": "markdown",
   "metadata": {},
   "source": [
    "## Detection"
   ]
  },
  {
   "cell_type": "code",
   "execution_count": 46,
   "metadata": {},
   "outputs": [],
   "source": [
    "example = {\n",
    "    \"anchors\": anchors,\n",
    "    \"voxels\": voxels,\n",
    "    \"num_points\": num_points,\n",
    "    \"coordinates\": coords,\n",
    "}\n"
   ]
  },
  {
   "cell_type": "code",
   "execution_count": null,
   "metadata": {},
   "outputs": [],
   "source": []
  },
  {
   "cell_type": "code",
   "execution_count": 47,
   "metadata": {},
   "outputs": [],
   "source": [
    "pred = net(example)[0]"
   ]
  },
  {
   "cell_type": "markdown",
   "metadata": {},
   "source": [
    "## Simple Vis"
   ]
  },
  {
   "cell_type": "code",
   "execution_count": 48,
   "metadata": {},
   "outputs": [],
   "source": [
    "boxes_lidar = pred[\"box3d_lidar\"].detach().cpu().numpy()\n",
    "vis_voxel_size = [0.1, 0.1, 0.1]\n",
    "vis_point_range = [-50, -30, -3, 50, 30, 1]\n",
    "bev_map = simplevis.point_to_vis_bev(points, vis_voxel_size, vis_point_range)\n",
    "bev_map = simplevis.draw_box_in_bev(bev_map, vis_point_range, boxes_lidar, [0, 255, 0], 2)"
   ]
  },
  {
   "cell_type": "code",
   "execution_count": 49,
   "metadata": {},
   "outputs": [
    {
     "data": {
      "text/plain": [
       "<matplotlib.image.AxesImage at 0x7f1a1da7ec90>"
      ]
     },
     "execution_count": 49,
     "metadata": {},
     "output_type": "execute_result"
    },
    {
     "data": {
      "image/png": "[encoded data removed]",
      "text/plain": [
       "<Figure size 432x288 with 1 Axes>"
      ]
     },
     "metadata": {
      "needs_background": "light"
     },
     "output_type": "display_data"
    }
   ],
   "source": [
    "plt.imshow(bev_map)"
   ]
  },
  {
   "cell_type": "code",
   "execution_count": null,
   "metadata": {},
   "outputs": [],
   "source": []
  }
 ],
 "metadata": {
  "kernelspec": {
   "display_name": "Python 3",
   "language": "python",
   "name": "python3"
  },
  "language_info": {
   "codemirror_mode": {
    "name": "ipython",
    "version": 3
   },
   "file_extension": ".py",
   "mimetype": "text/x-python",
   "name": "python",
   "nbconvert_exporter": "python",
   "pygments_lexer": "ipython3",
   "version": "3.7.7"
  }
 },
 "nbformat": 4,
 "nbformat_minor": 2
}
